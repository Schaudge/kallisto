{
 "cells": [
  {
   "cell_type": "markdown",
   "metadata": {},
   "source": [
    "### Translate fasta containing amino acid sequences to comma-free code:"
   ]
  },
  {
   "cell_type": "code",
   "execution_count": 5,
   "metadata": {},
   "outputs": [
    {
     "name": "stdout",
     "output_type": "stream",
     "text": [
      "The blackcellmagic extension is already loaded. To reload it, use:\n",
      "  %reload_ext blackcellmagic\n"
     ]
    }
   ],
   "source": [
    "%load_ext blackcellmagic\n",
    "from Bio import SeqIO"
   ]
  },
  {
   "cell_type": "code",
   "execution_count": 6,
   "metadata": {},
   "outputs": [],
   "source": [
    "# comme-free code AA dictionary\n",
    "cfcode = {\n",
    "    \"F\": \"ACC\",\n",
    "    \"L\": \"ACA\",\n",
    "    \"I\": \"ATA\",\n",
    "    \"M\": \"ATC\",\n",
    "    \"V\": \"ATT\",\n",
    "    \"S\": \"CTA\",\n",
    "    \"P\": \"CTC\",\n",
    "    \"T\": \"CTT\",\n",
    "    \"A\": \"AGA\",\n",
    "    \"Y\": \"AGC\",\n",
    "    \"H\": \"AGT\",\n",
    "    \"Q\": \"AGG\",\n",
    "    \"N\": \"CGA\", \n",
    "    \"K\": \"CGC\",\n",
    "    \"D\": \"CGT\",\n",
    "    \"E\": \"CGG\",\n",
    "    \"C\": \"TGA\",\n",
    "    \"W\": \"TGC\",\n",
    "    \"R\": \"TGT\",\n",
    "    \"G\": \"TGG\",\n",
    "    \"X\": \"NNN\",  # Amino acid not known\n",
    "    \"B\": \"CGT\",  # Represents either N or D - will translate as D here (N is only off by one base)\n",
    "    \"J\": \"ACA\",  # Represents either L or I - will translate as L here (I is only off by one base)\n",
    "    \"Z\": \"CGG\"   # Represents either E or Q - will translate as E here (Q is only off by one base)\n",
    "}"
   ]
  },
  {
   "cell_type": "code",
   "execution_count": 7,
   "metadata": {},
   "outputs": [],
   "source": [
    "fasta = \"../../Pachter_lab/comma-free/palmdb/2021-03-14/uniques.fa\"\n",
    "\n",
    "ids = []\n",
    "seqs = []\n",
    "cfc_seqs = []\n",
    "seq_lens = []\n",
    "for record in SeqIO.parse(fasta, \"fasta\"):\n",
    "    # Translate AA sequence to comma free\n",
    "    cfc_seq_temp = []\n",
    "    for aa in record.seq:\n",
    "        cfc_seq_temp.append(cfcode[aa])\n",
    "    \n",
    "    # Record seq\n",
    "    seqs.append(record.seq)\n",
    "    # Record sequence length\n",
    "    seq_lens.append(len(record.seq))\n",
    "\n",
    "    # Store cfc sequences and IDs in list\n",
    "    cfc_seqs.append(\"\".join(cfc_seq_temp))\n",
    "    ids.append(record.id)"
   ]
  },
  {
   "cell_type": "code",
   "execution_count": 8,
   "metadata": {},
   "outputs": [
    {
     "name": "stdout",
     "output_type": "stream",
     "text": [
      "Number of sequences: 296623\n",
      "AA sequence lengths (min-max): 50 - 250\n",
      "IDs are unique:  True\n",
      "Sequences are unique:  False\n",
      "Number of shared sequences:  62\n"
     ]
    }
   ],
   "source": [
    "print(f\"Number of sequences: {len(ids)}\")\n",
    "print(f\"AA sequence lengths (min-max): {min(seq_lens)} - {max(seq_lens)}\")\n",
    "# Check if all IDs are unique\n",
    "print(\"IDs are unique: \",len(ids) == len(set(ids)))\n",
    "# Check if all sequences are unique\n",
    "print(\"Sequences are unique: \", len(cfc_seqs) == len(set(cfc_seqs)))\n",
    "print(\"Number of shared sequences: \", len(cfc_seqs) - len(set(cfc_seqs)))"
   ]
  },
  {
   "cell_type": "markdown",
   "metadata": {},
   "source": [
    "Hamming distances between sequences in virus reference:"
   ]
  },
  {
   "cell_type": "code",
   "execution_count": null,
   "metadata": {},
   "outputs": [],
   "source": [
    "%%time\n",
    "from scipy.spatial.distance import hamming\n",
    "import itertools\n",
    "\n",
    "# Get Hamming distances in AA sequences\n",
    "hamming_distances = []\n",
    "for seq1, seq2 in itertools.combinations(cfc_seqs, 2):\n",
    "     # Compute Hamming distance with scipy package (returns percentage that can be converted to Hamming distance by multiplying by length of array)\n",
    "    if len(seq1) > len(seq2):\n",
    "        hamming_distance = hamming(list(seq1[:len(seq2)]), list(seq2)) * len(list(seq2))\n",
    "    elif len(seq2) > len(seq1):\n",
    "        hamming_distance = hamming(list(seq1), list(seq2[:len(seq1)])) * len(list(seq1))\n",
    "    else:\n",
    "        hamming_distance = hamming(list(seq1), list(seq2)) * len(list(seq1))\n",
    "    hamming_distances.append(hamming_distance)\n",
    "\n",
    "# Get Hamming distances in cfc sequences\n",
    "hamming_distances_cfc = []\n",
    "for seq1, seq2 in itertools.combinations(cfc_seqs, 2):\n",
    "    # Compute Hamming distance with scipy package (returns percentage that can be converted to Hamming distance by multiplying by length of array)\n",
    "    if len(seq1) > len(seq2):\n",
    "        hamming_distance = hamming(list(seq1[:len(seq2)]), list(seq2)) * len(list(seq2))\n",
    "    elif len(seq2) > len(seq1):\n",
    "        hamming_distance = hamming(list(seq1), list(seq2[:len(seq1)])) * len(list(seq1))\n",
    "    else:\n",
    "        hamming_distance = hamming(list(seq1), list(seq2)) * len(list(seq1))\n",
    "    hamming_distances_cfc.append(hamming_distance)\n",
    "    \n",
    "# Plot Hamming distances    \n",
    "fig, axs = plt.subplots(figsize=(10,5), ncols=2)\n",
    "\n",
    "ax=axs[0]\n",
    "ax.hist(hamming_distances, 5)\n",
    "ax.set_title(\"Hamming distances in PalmDB reference\")\n",
    "ax.set_xlabel(\"Hamming distance\")\n",
    "ax.set_ylabel(\"Frequency\")\n",
    "\n",
    "ax=axs[1]\n",
    "ax.hist(hamming_distances_cfc, 5)\n",
    "ax.set_title(\"Hamming distances in PalmDB reference\\n(after translation to comma-free code)\")\n",
    "ax.set_xlabel(\"Hamming distance\")\n",
    "ax.set_ylabel(\"Frequency\")\n",
    "\n",
    "fig.show()"
   ]
  },
  {
   "cell_type": "code",
   "execution_count": null,
   "metadata": {},
   "outputs": [],
   "source": [
    "fig.savefig(\"palmdb_hdists.png\", dpi=300, bbox_inches=\"tight\")"
   ]
  },
  {
   "cell_type": "markdown",
   "metadata": {},
   "source": [
    "### Build dna and gtf files"
   ]
  },
  {
   "cell_type": "code",
   "execution_count": 2,
   "metadata": {},
   "outputs": [],
   "source": [
    "path_to_folder = \"../../Pachter_lab/comma-free/palmdb/2021-03-14\""
   ]
  },
  {
   "cell_type": "code",
   "execution_count": null,
   "metadata": {},
   "outputs": [],
   "source": [
    "with open(f\"{path_to_folder}/cfc_palmdb_annotation.gtf\", \"w\") as gtf, open(\n",
    "    f\"{path_to_folder}/cfc_palmdb_genome.fa\", \"w\"\n",
    ") as dna:\n",
    "    genome_name = \"CFCpalmdb1\"\n",
    "\n",
    "    # Add header lines to GTF\n",
    "    gtf.write(\n",
    "        f\"#!genome-build {genome_name}.1\\n#!genome-version {genome_name}\\n#!genome-date 2021-03-14\\n#!genome-build-accession {genome_name}\\n#!genebuild-last-updated 2021-03-14\\n\")\n",
    "\n",
    "    start = 1\n",
    "    chromosome = 1\n",
    "    for cfc_seq, id in zip(cfc_seqs, ids):\n",
    "        source = \"palmdb\"\n",
    "        features = [\"gene\", \"transcript\", \"exon\", \"CDS\"]\n",
    "        frames = [\".\", \".\", \".\", \"0\"]\n",
    "        end = start  + len(cfc_seq)\n",
    "        gene_id = id\n",
    "\n",
    "        for feature, frame in zip(features, frames):\n",
    "            if feature == \"gene\":\n",
    "                gtf.write(\n",
    "                    f'{chromosome}\\t{source}\\t{feature}\\t{start} {end} .\\t+\\t{frame}\\tgene_id \"{gene_id}\"; gene_version \"1\"; gene_name \"{gene_id}\"; gene_source \"palmdb\"; gene_biotype \"protein_coding\";\\n'\n",
    "                    )\n",
    "            if feature == \"transcript\":\n",
    "                gtf.write(\n",
    "                    f'{chromosome}\\t{source}\\t{feature}\\t{start} {end} .\\t+\\t{frame}\\tgene_id \"{gene_id}\"; gene_version \"1\"; transcript_id \"{gene_id}T\"; transcript_version \"1\"; gene_name \"{gene_id}\"; gene_source \"palmdb\"; gene_biotype \"protein_coding\"; transcript_name \"{gene_id}\"; transcript_source \"palmdb\"; transcript_biotype \"protein_coding\"; tag \"CCDS\"; ccds_id \"CCDS{gene_id}\"; tag \"basic\";\\n'\n",
    "                )\n",
    "            if feature == \"exon\":\n",
    "                gtf.write(\n",
    "                    f'{chromosome}\\t{source}\\t{feature}\\t{start} {end} .\\t+\\t{frame}\\tgene_id \"{gene_id}\"; gene_version \"1\"; transcript_id \"{gene_id}T\"; transcript_version \"1\"; exon_number \"1\"; gene_name \"{gene_id}\"; gene_source \"palmdb\"; gene_biotype \"protein_coding\"; transcript_name \"{gene_id}\"; transcript_source \"palmdb\"; transcript_biotype \"protein_coding\"; tag \"CCDS\"; ccds_id \"CCDS{gene_id}\"; exon_id \"{gene_id}E\"; exon_version \"1\"; tag \"basic\";\\n'\n",
    "                )\n",
    "            if feature == \"CDS\":\n",
    "                gtf.write(\n",
    "                    f'{chromosome}\\t{source}\\t{feature}\\t{start} {end} .\\t+\\t{frame}\\tgene_id \"{gene_id}\"; gene_version \"1\"; transcript_id \"{gene_id}T\"; transcript_version \"1\"; exon_number \"1\"; gene_name \"{gene_id}\"; gene_source \"palmdb\"; gene_biotype \"protein_coding\"; transcript_name \"{gene_id}\"; transcript_source \"palmdb\"; transcript_biotype \"protein_coding\"; tag \"CCDS\"; ccds_id \"CCDS{gene_id}\"; protein_id \"{gene_id}P\"; protein_version \"1\"; tag \"basic\";\\n'\n",
    "                    )\n",
    "\n",
    "        # Build dna/genome file\n",
    "        dna.write(f\">{chromosome} dna:chromosome chromosome:{genome_name}:{chromosome}:{start}:{end}:1 REF\\n\")\n",
    "        dna.write(f\"{cfc_seq}\\n\")\n",
    "\n",
    "        # Add next PALM sequence to new chromosome\n",
    "        chromosome += 1"
   ]
  },
  {
   "cell_type": "markdown",
   "metadata": {},
   "source": [
    "Create t2g:"
   ]
  },
  {
   "cell_type": "code",
   "execution_count": null,
   "metadata": {},
   "outputs": [],
   "source": [
    "!cat uniques.fa | awk '{if($1~\">\") print $1\"\\t\"$1}' > cfc_palmdb_t2g.txt\n",
    "!sed -i'.original' 's/>u//g' cfc_palmdb_t2g.txt\n",
    "!rm cfc_palmdb_t2g.txt.original"
   ]
  },
  {
   "cell_type": "markdown",
   "metadata": {},
   "source": [
    "## Build index and bus file"
   ]
  },
  {
   "cell_type": "code",
   "execution_count": null,
   "metadata": {},
   "outputs": [],
   "source": [
    "# # Generate index with kb (DOES NOT WORK - DELANEY SAYS HE HAS THE SAME PROBLEM WITH KB REF)\n",
    "# !kb ref \\\n",
    "#     -i $path_to_folder/kb/cfc_palmdb_kb_index.idx \\\n",
    "#     -g $path_to_folder/kb/cfc_palmdb_t2g.txt \\\n",
    "#     -f1 $path_to_folder/kb/cfc_palmdb_transcriptome.fa \\\n",
    "#     $path_to_folder/cfc_palmdb_genome.fa \\\n",
    "#     $path_to_folder/cfc_palmdb_annotation.gtf"
   ]
  },
  {
   "cell_type": "code",
   "execution_count": null,
   "metadata": {},
   "outputs": [
    {
     "name": "stdout",
     "output_type": "stream",
     "text": [
      "\n",
      "[build] loading fasta file ../../../Pachter_lab/comma-free/palmdb/2021-03-14/cfc_palmdb_genome.fa\n",
      "[build] k-mer length: 31\n",
      "[build] warning: replaced 114207 non-ACGUT characters in the input sequence\n",
      "        with pseudorandom nucleotides\n",
      "KmerStream::KmerStream(): Start computing k-mer cardinality estimations (1/2)\n",
      "KmerStream::KmerStream(): Start computing k-mer cardinality estimations (1/2)\n",
      "KmerStream::KmerStream(): Finished\n",
      "CompactedDBG::build(): Estimated number of k-mers occurring at least once: 38457212\n",
      "CompactedDBG::build(): Estimated number of minimizer occurring at least once: 8030027\n",
      "CompactedDBG::filter(): Processed 88645809 k-mers in 296623 reads\n",
      "CompactedDBG::filter(): Found 38301304 unique k-mers\n",
      "CompactedDBG::filter(): Number of blocks in Bloom filter is 262893\n",
      "CompactedDBG::construct(): Extract approximate unitigs (1/2)\n",
      "CompactedDBG::construct(): Extract approximate unitigs (2/2)\n",
      "CompactedDBG::construct(): Closed all input files\n",
      "\n",
      "CompactedDBG::construct(): Splitting unitigs (1/2)\n",
      "\n",
      "CompactedDBG::construct(): Splitting unitigs (2/2)\n",
      "CompactedDBG::construct(): Before split: 2088625 unitigs\n",
      "CompactedDBG::construct(): After split (1/1): 2088625 unitigs\n",
      "CompactedDBG::construct(): Unitigs split: 1514\n",
      "CompactedDBG::construct(): Unitigs deleted: 0\n",
      "\n",
      "CompactedDBG::construct(): Joining unitigs\n",
      "CompactedDBG::construct(): After join: 2068840 unitigs\n",
      "CompactedDBG::construct(): Joined 20057 unitigs\n",
      "[Building BooPHF]  100  %   elapsed:   0 min 13 sec   remaining:   0 min 0  sec\n",
      "[build] creating equivalence classes ... \n",
      "[build] target de Bruijn graph has k-mer length 31 and minimizer length 23\n",
      "[build] target de Bruijn graph has 2068840 contigs and contains 38335279 k-mers \n",
      "\n"
     ]
    }
   ],
   "source": [
    "# Generate kallisto index\n",
    "!kallisto index \\\n",
    "    -i $path_to_folder/cfc_palmdb_index.idx \\\n",
    "    $path_to_folder/cfc_palmdb_genome.fa"
   ]
  },
  {
   "cell_type": "code",
   "execution_count": null,
   "metadata": {},
   "outputs": [],
   "source": []
  }
 ],
 "metadata": {
  "kernelspec": {
   "display_name": "Python 3 (ipykernel)",
   "language": "python",
   "name": "python3"
  },
  "language_info": {
   "codemirror_mode": {
    "name": "ipython",
    "version": 3
   },
   "file_extension": ".py",
   "mimetype": "text/x-python",
   "name": "python",
   "nbconvert_exporter": "python",
   "pygments_lexer": "ipython3",
   "version": "3.8.12"
  },
  "vscode": {
   "interpreter": {
    "hash": "dd19f4a025a239cd738138a9cfd973ebc04741b3d7e2339b3ee95d5c6fc3738f"
   }
  }
 },
 "nbformat": 4,
 "nbformat_minor": 4
}
