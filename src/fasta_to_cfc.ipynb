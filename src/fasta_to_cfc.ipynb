{
 "cells": [
  {
   "cell_type": "markdown",
   "metadata": {},
   "source": [
    "### Translate fasta containing amino acid sequences to comma-free code:"
   ]
  },
  {
   "cell_type": "code",
   "execution_count": 96,
   "metadata": {},
   "outputs": [
    {
     "name": "stdout",
     "output_type": "stream",
     "text": [
      "The blackcellmagic extension is already loaded. To reload it, use:\n",
      "  %reload_ext blackcellmagic\n"
     ]
    }
   ],
   "source": [
    "%load_ext blackcellmagic\n",
    "from Bio import SeqIO"
   ]
  },
  {
   "cell_type": "code",
   "execution_count": 97,
   "metadata": {},
   "outputs": [],
   "source": [
    "# comme-free code AA dictionary\n",
    "cfcode = {\n",
    "    \"F\": \"ACC\",\n",
    "    \"L\": \"ACA\",\n",
    "    \"I\": \"ATA\",\n",
    "    \"M\": \"ATC\",\n",
    "    \"V\": \"ATT\",\n",
    "    \"S\": \"CTA\",\n",
    "    \"P\": \"CTC\",\n",
    "    \"T\": \"CTT\",\n",
    "    \"A\": \"AGA\",\n",
    "    \"Y\": \"AGC\",\n",
    "    \"H\": \"AGT\",\n",
    "    \"Q\": \"AGG\",\n",
    "    \"N\": \"CGA\", \n",
    "    \"K\": \"CGC\",\n",
    "    \"D\": \"CGT\",\n",
    "    \"E\": \"CGG\",\n",
    "    \"C\": \"TGA\",\n",
    "    \"W\": \"TGC\",\n",
    "    \"R\": \"TGT\",\n",
    "    \"G\": \"TGG\",\n",
    "    \"X\": \"NNN\",  # Amino acid not known\n",
    "    \"B\": \"CGT\",  # Represents either N or D - will translate as D here (N is only off by one base)\n",
    "    \"J\": \"ACA\",  # Represents either L or I - will translate as L here (I is only off by one base)\n",
    "    \"Z\": \"CGG\"   # Represents either E or Q - will translate as E here (I is only off by one base)\n",
    "}"
   ]
  },
  {
   "cell_type": "code",
   "execution_count": 98,
   "metadata": {},
   "outputs": [
    {
     "ename": "KeyboardInterrupt",
     "evalue": "",
     "output_type": "error",
     "traceback": [
      "\u001b[0;31m---------------------------------------------------------------------------\u001b[0m",
      "\u001b[0;31mKeyboardInterrupt\u001b[0m                         Traceback (most recent call last)",
      "\u001b[1;32m/Users/lauraluebbert/OneDrive - California Institute of Technology/Data_analysis/kallisto-bf/src/fasta_to_cfc.ipynb Cell 4\u001b[0m in \u001b[0;36m<cell line: 5>\u001b[0;34m()\u001b[0m\n\u001b[1;32m      <a href='vscode-notebook-cell:/Users/lauraluebbert/OneDrive%20-%20California%20Institute%20of%20Technology/Data_analysis/kallisto-bf/src/fasta_to_cfc.ipynb#W3sZmlsZQ%3D%3D?line=2'>3</a>\u001b[0m ids \u001b[39m=\u001b[39m []\n\u001b[1;32m      <a href='vscode-notebook-cell:/Users/lauraluebbert/OneDrive%20-%20California%20Institute%20of%20Technology/Data_analysis/kallisto-bf/src/fasta_to_cfc.ipynb#W3sZmlsZQ%3D%3D?line=3'>4</a>\u001b[0m cfc_seqs \u001b[39m=\u001b[39m []\n\u001b[0;32m----> <a href='vscode-notebook-cell:/Users/lauraluebbert/OneDrive%20-%20California%20Institute%20of%20Technology/Data_analysis/kallisto-bf/src/fasta_to_cfc.ipynb#W3sZmlsZQ%3D%3D?line=4'>5</a>\u001b[0m \u001b[39mfor\u001b[39;00m record \u001b[39min\u001b[39;00m SeqIO\u001b[39m.\u001b[39mparse(fasta, \u001b[39m\"\u001b[39m\u001b[39mfasta\u001b[39m\u001b[39m\"\u001b[39m):\n\u001b[1;32m      <a href='vscode-notebook-cell:/Users/lauraluebbert/OneDrive%20-%20California%20Institute%20of%20Technology/Data_analysis/kallisto-bf/src/fasta_to_cfc.ipynb#W3sZmlsZQ%3D%3D?line=5'>6</a>\u001b[0m     \u001b[39m# Translate AA sequence to comma free\u001b[39;00m\n\u001b[1;32m      <a href='vscode-notebook-cell:/Users/lauraluebbert/OneDrive%20-%20California%20Institute%20of%20Technology/Data_analysis/kallisto-bf/src/fasta_to_cfc.ipynb#W3sZmlsZQ%3D%3D?line=6'>7</a>\u001b[0m     cfc_seq_temp \u001b[39m=\u001b[39m []\n\u001b[1;32m      <a href='vscode-notebook-cell:/Users/lauraluebbert/OneDrive%20-%20California%20Institute%20of%20Technology/Data_analysis/kallisto-bf/src/fasta_to_cfc.ipynb#W3sZmlsZQ%3D%3D?line=7'>8</a>\u001b[0m     \u001b[39mfor\u001b[39;00m aa \u001b[39min\u001b[39;00m record\u001b[39m.\u001b[39mseq:\n",
      "File \u001b[0;32m~/opt/anaconda3/lib/python3.8/site-packages/Bio/SeqIO/Interfaces.py:74\u001b[0m, in \u001b[0;36mSequenceIterator.__next__\u001b[0;34m(self)\u001b[0m\n\u001b[1;32m     72\u001b[0m \u001b[39mdef\u001b[39;00m \u001b[39m__next__\u001b[39m(\u001b[39mself\u001b[39m):\n\u001b[1;32m     73\u001b[0m     \u001b[39mtry\u001b[39;00m:\n\u001b[0;32m---> 74\u001b[0m         \u001b[39mreturn\u001b[39;00m \u001b[39mnext\u001b[39;49m(\u001b[39mself\u001b[39;49m\u001b[39m.\u001b[39;49mrecords)\n\u001b[1;32m     75\u001b[0m     \u001b[39mexcept\u001b[39;00m \u001b[39mException\u001b[39;00m:\n\u001b[1;32m     76\u001b[0m         \u001b[39mif\u001b[39;00m \u001b[39mself\u001b[39m\u001b[39m.\u001b[39mshould_close_stream:\n",
      "File \u001b[0;32m~/opt/anaconda3/lib/python3.8/site-packages/Bio/SeqIO/FastaIO.py:198\u001b[0m, in \u001b[0;36mFastaIterator.iterate\u001b[0;34m(self, handle)\u001b[0m\n\u001b[1;32m    196\u001b[0m         \u001b[39myield\u001b[39;00m SeqRecord(Seq(sequence), \u001b[39mid\u001b[39m\u001b[39m=\u001b[39m\u001b[39mid\u001b[39m, name\u001b[39m=\u001b[39mname, description\u001b[39m=\u001b[39mdescr)\n\u001b[1;32m    197\u001b[0m \u001b[39melse\u001b[39;00m:\n\u001b[0;32m--> 198\u001b[0m     \u001b[39mfor\u001b[39;00m title, sequence \u001b[39min\u001b[39;00m SimpleFastaParser(handle):\n\u001b[1;32m    199\u001b[0m         \u001b[39mtry\u001b[39;00m:\n\u001b[1;32m    200\u001b[0m             first_word \u001b[39m=\u001b[39m title\u001b[39m.\u001b[39msplit(\u001b[39mNone\u001b[39;00m, \u001b[39m1\u001b[39m)[\u001b[39m0\u001b[39m]\n",
      "\u001b[0;31mKeyboardInterrupt\u001b[0m: "
     ]
    }
   ],
   "source": [
    "fasta = \"../../../Pachter_lab/comma-free/palmdb/2021-03-14/uniques.fa\"\n",
    "\n",
    "ids = []\n",
    "cfc_seqs = []\n",
    "for record in SeqIO.parse(fasta, \"fasta\"):\n",
    "    # Translate AA sequence to comma free\n",
    "    cfc_seq_temp = []\n",
    "    for aa in record.seq:\n",
    "        cfc_seq_temp.append(cfcode[aa])\n",
    "\n",
    "    # Store cfc sequences and IDs in list\n",
    "    cfc_seqs.append(\"\".join(cfc_seq_temp))\n",
    "    ids.append(record.id)"
   ]
  },
  {
   "cell_type": "code",
   "execution_count": null,
   "metadata": {},
   "outputs": [
    {
     "name": "stdout",
     "output_type": "stream",
     "text": [
      "IDs are unique:  True\n",
      "Sequences are unique:  False\n",
      "Number of shared sequences:  62\n"
     ]
    }
   ],
   "source": [
    "# Check if all IDs are unique\n",
    "print(\"IDs are unique: \",len(ids) == len(set(ids)))\n",
    "# Check if all sequences are unique\n",
    "print(\"Sequences are unique: \", len(cfc_seqs) == len(set(cfc_seqs)))\n",
    "print(\"Number of shared sequences: \", len(cfc_seqs) - len(set(cfc_seqs)))"
   ]
  },
  {
   "cell_type": "markdown",
   "metadata": {},
   "source": [
    "### Build dna and gtf files"
   ]
  },
  {
   "cell_type": "code",
   "execution_count": 4,
   "metadata": {},
   "outputs": [],
   "source": [
    "path_to_folder = \"../../../Pachter_lab/comma-free/palmdb/2021-03-14\""
   ]
  },
  {
   "cell_type": "code",
   "execution_count": null,
   "metadata": {},
   "outputs": [],
   "source": [
    "with open(f\"{path_to_folder}/cfc_palmdb_annotation.gtf\", \"w\") as gtf, open(\n",
    "    f\"{path_to_folder}/cfc_palmdb_genome.fa\", \"w\"\n",
    ") as dna:\n",
    "    genome_name = \"CFCpalmdb1\"\n",
    "\n",
    "    # Add header lines to GTF\n",
    "    gtf.write(\n",
    "        f\"#!genome-build {genome_name}.1\\n#!genome-version {genome_name}\\n#!genome-date 2021-03-14\\n#!genome-build-accession {genome_name}\\n#!genebuild-last-updated 2021-03-14\\n\")\n",
    "\n",
    "    start = 1\n",
    "    chromosome = 1\n",
    "    for cfc_seq, id in zip(cfc_seqs, ids):\n",
    "        source = \"palmdb\"\n",
    "        features = [\"gene\", \"transcript\", \"exon\", \"CDS\"]\n",
    "        frames = [\".\", \".\", \".\", \"0\"]\n",
    "        end = start  + len(cfc_seq)\n",
    "        gene_id = id\n",
    "\n",
    "        for feature, frame in zip(features, frames):\n",
    "            if feature == \"gene\":\n",
    "                gtf.write(\n",
    "                    f'{chromosome}\\t{source}\\t{feature}\\t{start} {end} .\\t+\\t{frame}\\tgene_id \"{gene_id}\"; gene_version \"1\"; gene_name \"{gene_id}\"; gene_source \"palmdb\"; gene_biotype \"protein_coding\";\\n'\n",
    "                    )\n",
    "            if feature == \"transcript\":\n",
    "                gtf.write(\n",
    "                    f'{chromosome}\\t{source}\\t{feature}\\t{start} {end} .\\t+\\t{frame}\\tgene_id \"{gene_id}\"; gene_version \"1\"; transcript_id \"{gene_id}T\"; transcript_version \"1\"; gene_name \"{gene_id}\"; gene_source \"palmdb\"; gene_biotype \"protein_coding\"; transcript_name \"{gene_id}\"; transcript_source \"palmdb\"; transcript_biotype \"protein_coding\"; tag \"CCDS\"; ccds_id \"CCDS{gene_id}\"; tag \"basic\";\\n'\n",
    "                )\n",
    "            if feature == \"exon\":\n",
    "                gtf.write(\n",
    "                    f'{chromosome}\\t{source}\\t{feature}\\t{start} {end} .\\t+\\t{frame}\\tgene_id \"{gene_id}\"; gene_version \"1\"; transcript_id \"{gene_id}T\"; transcript_version \"1\"; exon_number \"1\"; gene_name \"{gene_id}\"; gene_source \"palmdb\"; gene_biotype \"protein_coding\"; transcript_name \"{gene_id}\"; transcript_source \"palmdb\"; transcript_biotype \"protein_coding\"; tag \"CCDS\"; ccds_id \"CCDS{gene_id}\"; exon_id \"{gene_id}E\"; exon_version \"1\"; tag \"basic\";\\n'\n",
    "                )\n",
    "            if feature == \"CDS\":\n",
    "                gtf.write(\n",
    "                    f'{chromosome}\\t{source}\\t{feature}\\t{start} {end} .\\t+\\t{frame}\\tgene_id \"{gene_id}\"; gene_version \"1\"; transcript_id \"{gene_id}T\"; transcript_version \"1\"; exon_number \"1\"; gene_name \"{gene_id}\"; gene_source \"palmdb\"; gene_biotype \"protein_coding\"; transcript_name \"{gene_id}\"; transcript_source \"palmdb\"; transcript_biotype \"protein_coding\"; tag \"CCDS\"; ccds_id \"CCDS{gene_id}\"; protein_id \"{gene_id}P\"; protein_version \"1\"; tag \"basic\";\\n'\n",
    "                    )\n",
    "\n",
    "        # Build dna/genome file\n",
    "        dna.write(f\">{chromosome} dna:chromosome chromosome:{genome_name}:{chromosome}:{start}:{end}:1 REF\\n\")\n",
    "        dna.write(f\"{cfc_seq}\\n\")\n",
    "\n",
    "        # Add next PALM sequence to new chromosome\n",
    "        chromosome += 1"
   ]
  },
  {
   "cell_type": "markdown",
   "metadata": {},
   "source": [
    "## Build index and bus file"
   ]
  },
  {
   "cell_type": "code",
   "execution_count": 6,
   "metadata": {},
   "outputs": [],
   "source": [
    "# # Generate index with kb (so I can get t2g as well)\n",
    "# !kb ref \\\n",
    "#     -i $path_to_folder/kb/cfc_palmdb_kb_index.idx \\\n",
    "#     -g $path_to_folder/kb/cfc_palmdb_t2g.txt \\\n",
    "#     -f1 $path_to_folder/kb/cfc_palmdb_transcriptome.fa \\\n",
    "#     $path_to_folder/cfc_palmdb_genome.fa \\\n",
    "#     $path_to_folder/cfc_palmdb_annotation.gtf"
   ]
  },
  {
   "cell_type": "code",
   "execution_count": null,
   "metadata": {},
   "outputs": [
    {
     "name": "stdout",
     "output_type": "stream",
     "text": [
      "\n",
      "[build] loading fasta file ../../../Pachter_lab/comma-free/palmdb/2021-03-14/cfc_palmdb_genome.fa\n",
      "[build] k-mer length: 31\n",
      "[build] warning: replaced 114207 non-ACGUT characters in the input sequence\n",
      "        with pseudorandom nucleotides\n",
      "KmerStream::KmerStream(): Start computing k-mer cardinality estimations (1/2)\n",
      "KmerStream::KmerStream(): Start computing k-mer cardinality estimations (1/2)\n",
      "KmerStream::KmerStream(): Finished\n",
      "CompactedDBG::build(): Estimated number of k-mers occurring at least once: 38457212\n",
      "CompactedDBG::build(): Estimated number of minimizer occurring at least once: 8030027\n",
      "CompactedDBG::filter(): Processed 88645809 k-mers in 296623 reads\n",
      "CompactedDBG::filter(): Found 38301304 unique k-mers\n",
      "CompactedDBG::filter(): Number of blocks in Bloom filter is 262893\n",
      "CompactedDBG::construct(): Extract approximate unitigs (1/2)\n",
      "CompactedDBG::construct(): Extract approximate unitigs (2/2)\n",
      "CompactedDBG::construct(): Closed all input files\n",
      "\n",
      "CompactedDBG::construct(): Splitting unitigs (1/2)\n",
      "\n",
      "CompactedDBG::construct(): Splitting unitigs (2/2)\n",
      "CompactedDBG::construct(): Before split: 2088625 unitigs\n",
      "CompactedDBG::construct(): After split (1/1): 2088625 unitigs\n",
      "CompactedDBG::construct(): Unitigs split: 1514\n",
      "CompactedDBG::construct(): Unitigs deleted: 0\n",
      "\n",
      "CompactedDBG::construct(): Joining unitigs\n",
      "CompactedDBG::construct(): After join: 2068840 unitigs\n",
      "CompactedDBG::construct(): Joined 20057 unitigs\n",
      "[Building BooPHF]  100  %   elapsed:   0 min 13 sec   remaining:   0 min 0  sec\n",
      "[build] creating equivalence classes ... \n",
      "[build] target de Bruijn graph has k-mer length 31 and minimizer length 23\n",
      "[build] target de Bruijn graph has 2068840 contigs and contains 38335279 k-mers \n",
      "\n"
     ]
    }
   ],
   "source": [
    "# Generate kallisto index\n",
    "!kallisto index \\\n",
    "    -i $path_to_folder/cfc_palmdb_index.idx \\\n",
    "    $path_to_folder/cfc_palmdb_genome.fa"
   ]
  },
  {
   "cell_type": "code",
   "execution_count": 8,
   "metadata": {},
   "outputs": [],
   "source": [
    "out_folder = '../../../Pachter_lab/comma-free'\n",
    "fastq_folder = '../../../Pachter_lab/comma-free/test_files'"
   ]
  },
  {
   "cell_type": "code",
   "execution_count": null,
   "metadata": {},
   "outputs": [
    {
     "name": "stdout",
     "output_type": "stream",
     "text": [
      "\n",
      "[bus] Note: Strand option was not specified; setting it to --fr-stranded for specified technology\n",
      "[quant] will process sample 1: ../../../Pachter_lab/comma-free/test_files/SRR9887677_1_modified.fastq\n",
      "                               ../../../Pachter_lab/comma-free/test_files/SRR9887677_2_modified.fastq\n",
      "[quant] finding pseudoalignments for the reads ... done\n",
      "[quant] processed 20 reads, 3 reads pseudoaligned\n",
      "\n"
     ]
    }
   ],
   "source": [
    "!kallisto bus \\\n",
    "    -i $path_to_folder/cfc_palmdb_index.idx \\\n",
    "    -o $out_folder \\\n",
    "    -x 10xv2 \\\n",
    "    $fastq_folder/SRR9887677_1_modified.fastq \\\n",
    "    $fastq_folder/SRR9887677_2_modified.fastq"
   ]
  },
  {
   "cell_type": "code",
   "execution_count": 11,
   "metadata": {},
   "outputs": [
    {
     "name": "stdout",
     "output_type": "stream",
     "text": [
      "Read in 3 BUS records\n"
     ]
    }
   ],
   "source": [
    "!bustools sort -o $out_folder/output_sorted.bus $out_folder/output.bus"
   ]
  },
  {
   "cell_type": "code",
   "execution_count": 12,
   "metadata": {},
   "outputs": [
    {
     "name": "stdout",
     "output_type": "stream",
     "text": [
      "ACAATACGACTCACTA\tCAGGGGGGTT\t1\t1\n",
      "GTGGTACGACTCACTA\tCAGGGACGTT\t2\t1\n",
      "TCACTTCGACTCACTA\tCAGGGCGGCA\t0\t1\n",
      "Read in 3 BUS records\n"
     ]
    }
   ],
   "source": [
    "# Read bus file\n",
    "!bustools text -p $out_folder/output_sorted.bus"
   ]
  },
  {
   "cell_type": "code",
   "execution_count": null,
   "metadata": {},
   "outputs": [],
   "source": [
    "# Create t2g to run bustools count\n",
    "\n",
    "\n"
   ]
  },
  {
   "cell_type": "code",
   "execution_count": 101,
   "metadata": {},
   "outputs": [
    {
     "name": "stdout",
     "output_type": "stream",
     "text": [
      "Error: missing gene mapping file\n",
      "Usage: bustools count [options] sorted-bus-files\n",
      "\n",
      "Options: \n",
      "-o, --output          Output directory gene matrix files\n",
      "-g, --genemap         File for mapping transcripts to genes\n",
      "-e, --ecmap           File for mapping equivalence classes to transcripts\n",
      "-t, --txnames         File with names of transcripts\n",
      "    --genecounts      Aggregate counts to genes only\n",
      "    --umi-gene        Perform gene-level collapsing of UMIs\n",
      "    --em              Estimate gene abundances using EM algorithm\n",
      "    --cm              Count multiplicites instead of UMIs\n",
      "-m, --multimapping    Include bus records that pseudoalign to multiple genes\n",
      "    --hist            Output copy per UMI histograms for all genes\n",
      "-d  --downsample      Specify a factor between 0 and 1 specifying how much to downsample\n",
      "    --rawcounts       The count matrix will contain raw counts instead of UMI counts\n",
      "\n"
     ]
    }
   ],
   "source": [
    "!bustools count \\\n",
    "    -o $out_folder/bustools_count/ \\\n",
    "    -g $path_to_folder/cfc_palmdb_t2g.txt \\\n",
    "    -e $out_folder/matrix.ec \\\n",
    "    -t $out_folder/transcripts.txt \\\n",
    "    $out_folder/output_sorted.bus"
   ]
  },
  {
   "cell_type": "code",
   "execution_count": null,
   "metadata": {},
   "outputs": [],
   "source": []
  }
 ],
 "metadata": {
  "kernelspec": {
   "display_name": "Python 3.8.12 ('base')",
   "language": "python",
   "name": "python3"
  },
  "language_info": {
   "codemirror_mode": {
    "name": "ipython",
    "version": 3
   },
   "file_extension": ".py",
   "mimetype": "text/x-python",
   "name": "python",
   "nbconvert_exporter": "python",
   "pygments_lexer": "ipython3",
   "version": "3.8.12"
  },
  "orig_nbformat": 4,
  "vscode": {
   "interpreter": {
    "hash": "dd19f4a025a239cd738138a9cfd973ebc04741b3d7e2339b3ee95d5c6fc3738f"
   }
  }
 },
 "nbformat": 4,
 "nbformat_minor": 2
}
