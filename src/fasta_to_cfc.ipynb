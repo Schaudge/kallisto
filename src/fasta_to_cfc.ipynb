{
 "cells": [
  {
   "cell_type": "markdown",
   "metadata": {},
   "source": [
    "### Translate fasta containing amino acid sequences to comma-free code:"
   ]
  },
  {
   "cell_type": "code",
   "execution_count": 1,
   "metadata": {},
   "outputs": [],
   "source": [
    "%load_ext blackcellmagic\n",
    "from Bio import SeqIO"
   ]
  },
  {
   "cell_type": "code",
   "execution_count": 2,
   "metadata": {},
   "outputs": [],
   "source": [
    "# comme-free code AA dictionary\n",
    "cfcode = {\n",
    "    \"F\": \"ACC\",\n",
    "    \"L\": \"ACA\",\n",
    "    \"I\": \"ATA\",\n",
    "    \"M\": \"ATC\",\n",
    "    \"V\": \"ATT\",\n",
    "    \"S\": \"CTA\",\n",
    "    \"P\": \"CTC\",\n",
    "    \"T\": \"CTT\",\n",
    "    \"A\": \"AGA\",\n",
    "    \"Y\": \"AGC\",\n",
    "    \"H\": \"AGT\",\n",
    "    \"Q\": \"AGG\",\n",
    "    \"N\": \"CGA\", \n",
    "    \"K\": \"CGC\",\n",
    "    \"D\": \"CGT\",\n",
    "    \"E\": \"CGG\",\n",
    "    \"C\": \"TGA\",\n",
    "    \"W\": \"TGC\",\n",
    "    \"R\": \"TGT\",\n",
    "    \"G\": \"TGG\",\n",
    "    \"X\": \"NNN\",  # Amino acid not known\n",
    "    \"B\": \"CGT\",  # Represents either N or D - will translate as D here (N is only off by one base)\n",
    "    \"J\": \"ACA\",  # Represents either L or I - will translate as L here (I is only off by one base)\n",
    "    \"Z\": \"CGG\"   # Represents either E or Q - will translate as E here (I is only off by one base)\n",
    "}"
   ]
  },
  {
   "cell_type": "code",
   "execution_count": 3,
   "metadata": {},
   "outputs": [],
   "source": [
    "fasta = \"../../../Pachter_lab/comma-free/palmdb/2021-03-14/uniques.fa\"\n",
    "\n",
    "ids = []\n",
    "cfc_seqs = []\n",
    "for record in SeqIO.parse(fasta, \"fasta\"):\n",
    "    # Translate AA sequence to comma free\n",
    "    cfc_seq_temp = []\n",
    "    for aa in record.seq:\n",
    "        cfc_seq_temp.append(cfcode[aa])\n",
    "\n",
    "    # Store cfc sequences and IDs in list\n",
    "    cfc_seqs.append(\"\".join(cfc_seq_temp))\n",
    "    ids.append(record.id)"
   ]
  },
  {
   "cell_type": "code",
   "execution_count": 19,
   "metadata": {},
   "outputs": [
    {
     "name": "stdout",
     "output_type": "stream",
     "text": [
      "IDs are unique:  True\n",
      "Sequences are unique:  False\n",
      "Number of shared sequences:  62\n"
     ]
    }
   ],
   "source": [
    "# Check if all IDs are unique\n",
    "print(\"IDs are unique: \",len(ids) == len(set(ids)))\n",
    "# Check if all sequences are unique\n",
    "print(\"Sequences are unique: \", len(cfc_seqs) == len(set(cfc_seqs)))\n",
    "print(\"Number of shared sequences: \", len(cfc_seqs) - len(set(cfc_seqs)))"
   ]
  },
  {
   "cell_type": "markdown",
   "metadata": {},
   "source": [
    "### Build dna and gtf files"
   ]
  },
  {
   "cell_type": "code",
   "execution_count": 27,
   "metadata": {},
   "outputs": [],
   "source": [
    "path_to_folder = \"../../../Pachter_lab/comma-free/palmdb/2021-03-14\""
   ]
  },
  {
   "cell_type": "code",
   "execution_count": 73,
   "metadata": {},
   "outputs": [],
   "source": [
    "with open(f\"{path_to_folder}/cfc_palmdb_annotation.gtf\", \"w\") as gtf, open(\n",
    "    f\"{path_to_folder}/cfc_palmdb_genome.fa\", \"w\"\n",
    ") as dna:\n",
    "    genome_name = \"CFCpalmdb1\"\n",
    "\n",
    "    # Add header lines to GTF\n",
    "    gtf.write(\n",
    "        f\"#!genome-build {genome_name}.1\\n#!genome-version {genome_name}\\n#!genome-date 2021-03-14\\n#!genome-build-accession {genome_name}\\n#!genebuild-last-updated 2021-03-14\\n\")\n",
    "\n",
    "    start = 1\n",
    "    chromosome = 1\n",
    "    for cfc_seq, id in zip(cfc_seqs, ids):\n",
    "        source = \"palmdb\"\n",
    "        features = [\"gene\", \"transcript\", \"exon\", \"CDS\"]\n",
    "        frames = [\".\", \".\", \".\", \"0\"]\n",
    "        end = start  + len(cfc_seq)\n",
    "        gene_id = id\n",
    "\n",
    "        for feature, frame in zip(features, frames):\n",
    "            if feature == \"gene\":\n",
    "                gtf.write(\n",
    "                    f'{chromosome}\\t{source}\\t{feature}\\t{start} {end} .\\t+\\t{frame}\\tgene_id \"{gene_id}\"; gene_version \"1\"; gene_name \"{gene_id}\"; gene_source \"palmdb\"; gene_biotype \"protein_coding\";\\n'\n",
    "                    )\n",
    "            if feature == \"transcript\":\n",
    "                gtf.write(\n",
    "                    f'{chromosome}\\t{source}\\t{feature}\\t{start} {end} .\\t+\\t{frame}\\tgene_id \"{gene_id}\"; gene_version \"1\"; transcript_id \"{gene_id}T\"; transcript_version \"1\"; gene_name \"{gene_id}\"; gene_source \"palmdb\"; gene_biotype \"protein_coding\"; transcript_name \"{gene_id}\"; transcript_source \"palmdb\"; transcript_biotype \"protein_coding\"; tag \"CCDS\"; ccds_id \"CCDS{gene_id}\"; tag \"basic\";\\n'\n",
    "                )\n",
    "            if feature == \"exon\":\n",
    "                gtf.write(\n",
    "                    f'{chromosome}\\t{source}\\t{feature}\\t{start} {end} .\\t+\\t{frame}\\tgene_id \"{gene_id}\"; gene_version \"1\"; transcript_id \"{gene_id}T\"; transcript_version \"1\"; exon_number \"1\"; gene_name \"{gene_id}\"; gene_source \"palmdb\"; gene_biotype \"protein_coding\"; transcript_name \"{gene_id}\"; transcript_source \"palmdb\"; transcript_biotype \"protein_coding\"; tag \"CCDS\"; ccds_id \"CCDS{gene_id}\"; exon_id \"{gene_id}E\"; exon_version \"1\"; tag \"basic\";\\n'\n",
    "                )\n",
    "            if feature == \"CDS\":\n",
    "                gtf.write(\n",
    "                    f'{chromosome}\\t{source}\\t{feature}\\t{start} {end} .\\t+\\t{frame}\\tgene_id \"{gene_id}\"; gene_version \"1\"; transcript_id \"{gene_id}T\"; transcript_version \"1\"; exon_number \"1\"; gene_name \"{gene_id}\"; gene_source \"palmdb\"; gene_biotype \"protein_coding\"; transcript_name \"{gene_id}\"; transcript_source \"palmdb\"; transcript_biotype \"protein_coding\"; tag \"CCDS\"; ccds_id \"CCDS{gene_id}\"; protein_id \"{gene_id}P\"; protein_version \"1\"; tag \"basic\";\\n'\n",
    "                    )\n",
    "\n",
    "        # Build dna/genome file\n",
    "        dna.write(f\">{chromosome} dna:chromosome chromosome:{genome_name}:{chromosome}:{start}:{end}:1 REF\\n\")\n",
    "        dna.write(f\"{cfc_seq}\\n\")\n",
    "\n",
    "        # Add next PALM sequence to new chromosome\n",
    "        chromosome += 1"
   ]
  },
  {
   "cell_type": "markdown",
   "metadata": {},
   "source": [
    "### Build index with kb ref"
   ]
  },
  {
   "cell_type": "code",
   "execution_count": 78,
   "metadata": {},
   "outputs": [
    {
     "name": "stdout",
     "output_type": "stream",
     "text": [
      "[2022-11-02 16:24:21,691]    INFO [ref] Preparing ../../../Pachter_lab/comma-free/palmdb/2021-03-14/cfc_palmdb_genome.fa, ../../../Pachter_lab/comma-free/palmdb/2021-03-14/cfc_palmdb_annotation.gtf\n",
      "[2022-11-02 16:24:56,948]    INFO [ref] Splitting genome ../../../Pachter_lab/comma-free/palmdb/2021-03-14/cfc_palmdb_genome.fa into cDNA at /Users/lauraluebbert/OneDrive - California Institute of Technology/Data_analysis/kallisto-bf/src/tmp/tmp7gce4cz3\n"
     ]
    }
   ],
   "source": [
    "!kb ref \\\n",
    "    -i $path_to_folder/cfc_palmdb_index.idx \\\n",
    "    -g $path_to_folder/cfc_palmdb_t2g.txt \\\n",
    "    -f1 $path_to_folder/cfc_palmdb_transcriptome.fa \\\n",
    "    $path_to_folder/cfc_palmdb_genome.fa \\\n",
    "    $path_to_folder/cfc_palmdb_annotation.gtf"
   ]
  },
  {
   "cell_type": "code",
   "execution_count": 77,
   "metadata": {},
   "outputs": [
    {
     "name": "stdout",
     "output_type": "stream",
     "text": [
      "/bin/bash: kallisto: command not found\n"
     ]
    }
   ],
   "source": [
    "# !kallisto index \\\n",
    "#     -i $path_to_folder/cfc_palmdb_index.idx \\\n",
    "#     $path_to_folder/cfc_palmdb_genome.fa"
   ]
  }
 ],
 "metadata": {
  "kernelspec": {
   "display_name": "Python 3.8.12 ('base')",
   "language": "python",
   "name": "python3"
  },
  "language_info": {
   "codemirror_mode": {
    "name": "ipython",
    "version": 3
   },
   "file_extension": ".py",
   "mimetype": "text/x-python",
   "name": "python",
   "nbconvert_exporter": "python",
   "pygments_lexer": "ipython3",
   "version": "3.8.12"
  },
  "orig_nbformat": 4,
  "vscode": {
   "interpreter": {
    "hash": "dd19f4a025a239cd738138a9cfd973ebc04741b3d7e2339b3ee95d5c6fc3738f"
   }
  }
 },
 "nbformat": 4,
 "nbformat_minor": 2
}
